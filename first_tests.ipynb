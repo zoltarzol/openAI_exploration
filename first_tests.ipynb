{
 "cells": [
  {
   "cell_type": "code",
   "execution_count": 72,
   "metadata": {},
   "outputs": [],
   "source": [
    "# import des bibliothèques requises\n",
    "import openai\n",
    "import requests\n",
    "\n",
    "# données d'identification et d'authentification openAI\n",
    "openai.organization = \"org-n6X2zCb7o31ARXwZnVkEeopQ\"\n",
    "openai.api_key = os.getenv(\"OPENAI_API_KEY\")\n"
   ]
  },
  {
   "cell_type": "code",
   "execution_count": 80,
   "metadata": {},
   "outputs": [
    {
     "data": {
      "text/plain": [
       "{'engine': 'text-davinci-002',\n",
       " 'prompt': \"Provide a cooking recipe based on the following ingredients:\\n\\n- beef\\n- ginger\\n- bell peppers\\n- oregano\\n\\nThe response should include the recipe's name, the recipe's ingredients, and the recipe's instructions.\",\n",
       " 'temperature': 0.7,\n",
       " 'top_p': 1,\n",
       " 'max_tokens': 300,\n",
       " 'frequency_penalty': 0,\n",
       " 'presence_penalty': 0}"
      ]
     },
     "execution_count": 80,
     "metadata": {},
     "output_type": "execute_result"
    }
   ],
   "source": [
    "# le moteur IA utilisé dans ce programme\n",
    "engine = \"text-davinci-002\"\n",
    "\n",
    "# la liste suivante est ici hardcodée mais sera générée depuis une liste d'ingrédients suggérés par l'interface graphique (frontend)\n",
    "ingredients = [\"beef\",\"ginger\",\"bell peppers\",\"oregano\"]\n",
    "\n",
    "# à partir de la liste d'ingrédients, génération d'une chaîne de caractères qui s'intègrera naturellement dans la question posée\n",
    "formatted_ingredients = \"\\n- \" + \"\\n- \".join(ingredients)\n",
    "\n",
    "# la question qui sera posée au modèle openAI\n",
    "question_asked_to_openAI_completions = \"Provide a cooking recipe based on the following ingredients:\\n\" + formatted_ingredients + \"\\n\\nThe response should include the recipe's name, the recipe's ingredients, and the recipe's instructions.\"\n",
    "\n",
    "# un dictionnaire contenant les arguments à passer à l'endpoint \"completions\" via la méthode \"openai.Completion.create\" (SDK openAI)\n",
    "completion_arguments = {\n",
    "  \"engine\" : engine,\n",
    "  \"prompt\" : question_asked_to_openAI_completions,\n",
    "  \"temperature\" : 0.7,\n",
    "  \"top_p\" : 1,\n",
    "  \"max_tokens\" : 300,\n",
    "  \"frequency_penalty\" : 0,\n",
    "  \"presence_penalty\" : 0\n",
    "  }\n",
    "\n",
    "completion_arguments\n"
   ]
  },
  {
   "cell_type": "code",
   "execution_count": 83,
   "metadata": {},
   "outputs": [
    {
     "name": "stdout",
     "output_type": "stream",
     "text": [
      "-\n",
      "\n",
      "Stir-Fried Beef with Ginger and Bell Peppers\n",
      "\n",
      "Ingredients:\n",
      "\n",
      "- 1 pound beef, thinly sliced\n",
      "- 2 tablespoons vegetable oil\n",
      "- 1 thumb-sized piece of ginger, peeled and minced\n",
      "- 2 bell peppers, thinly sliced\n",
      "- 1 teaspoon dried oregano\n",
      "- 1 teaspoon salt\n",
      "- 1/2 teaspoon black pepper\n",
      "\n",
      "Instructions:\n",
      "\n",
      "1. Heat a large skillet or wok over high heat.\n",
      "\n",
      "2. Add the oil and ginger, and stir-fry for 30 seconds.\n",
      "\n",
      "3. Add the beef and stir-fry for 2 minutes, or until browned.\n",
      "\n",
      "4. Add the bell peppers and oregano, and stir-fry for 2 minutes.\n",
      "\n",
      "5. Season with salt and black pepper, and stir-fry for 1 more minute.\n",
      "\n",
      "6. Serve with rice.\n"
     ]
    }
   ],
   "source": [
    "response = openai.Completion.create(\n",
    "  engine = completion_arguments[\"engine\"],\n",
    "  prompt =  completion_arguments[\"prompt\"],\n",
    "  temperature = completion_arguments[\"temperature\"],\n",
    "  top_p = completion_arguments[\"top_p\"],\n",
    "  max_tokens = completion_arguments[\"max_tokens\"],\n",
    "  frequency_penalty = completion_arguments[\"frequency_penalty\"],\n",
    "  presence_penalty = completion_arguments[\"presence_penalty\"])\n",
    "\n",
    "print(response[\"choices\"][0][\"text\"][2:])"
   ]
  },
  {
   "cell_type": "code",
   "execution_count": 88,
   "metadata": {},
   "outputs": [
    {
     "name": "stdout",
     "output_type": "stream",
     "text": [
      "Stir-Fried Beef with Ginger and Bell Peppers\n",
      "\n",
      "Ingredients:\n",
      "\n",
      "- 1 pound beef, thinly sliced\n",
      "- 2 tablespoons vegetable oil\n",
      "- 1 thumb-sized piece of ginger, peeled and minced\n",
      "- 2 bell peppers, thinly sliced\n",
      "- 1 teaspoon dried oregano\n",
      "- 1 teaspoon salt\n",
      "- 1/2 teaspoon black pepper\n",
      "\n",
      "Instructions:\n",
      "\n",
      "1. Heat a large skillet or wok over high heat.\n",
      "\n",
      "2. Add the oil and ginger, and stir-fry for 30 seconds.\n",
      "\n",
      "3. Add the beef and stir-fry for 2 minutes, or until browned.\n",
      "\n",
      "4. Add the bell peppers and oregano, and stir-fry for 2 minutes.\n",
      "\n",
      "5. Season with salt and black pepper, and stir-fry for 1 more minute.\n",
      "\n",
      "6. Serve with rice.\n"
     ]
    }
   ],
   "source": [
    "print(response[\"choices\"][0][\"text\"][5:])"
   ]
  }
 ],
 "metadata": {
  "kernelspec": {
   "display_name": "Python 3.10.4 ('cdds')",
   "language": "python",
   "name": "python3"
  },
  "language_info": {
   "codemirror_mode": {
    "name": "ipython",
    "version": 3
   },
   "file_extension": ".py",
   "mimetype": "text/x-python",
   "name": "python",
   "nbconvert_exporter": "python",
   "pygments_lexer": "ipython3",
   "version": "3.10.4"
  },
  "orig_nbformat": 4,
  "vscode": {
   "interpreter": {
    "hash": "8bab0a5423ce62a47f6e87205924ad62f3241dead0ab0b7b49b905e7bc7a44cc"
   }
  }
 },
 "nbformat": 4,
 "nbformat_minor": 2
}
