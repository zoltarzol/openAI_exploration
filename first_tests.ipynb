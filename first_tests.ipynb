{
 "cells": [
  {
   "cell_type": "code",
   "execution_count": null,
   "metadata": {},
   "outputs": [],
   "source": [
    "# import des bibliothèques requises\n",
    "import os\n",
    "import openai\n",
    "import requests\n",
    "\n",
    "# données d'identification et d'authentification openAI\n",
    "openai.api_key = os.getenv(\"OPENAI_API_KEY\")\n",
    "openai.organization = os.getenv(\"OPENAI_ORG\")\n",
    "\n",
    "\n",
    "\n",
    "\n",
    "# !!! SI LA LIGNE SUIVANTE EST EXECUTEE, SUPPRIMER LES OUTPUTS AVANT TOUT PUSH VERS GITHUB !!!\n",
    "\n",
    "#print(\"Org successfully retrieved: \",openai.organization,\"\\nKey successfully retrieved: \",openai.api_key)"
   ]
  },
  {
   "cell_type": "code",
   "execution_count": 8,
   "metadata": {},
   "outputs": [
    {
     "name": "stdout",
     "output_type": "stream",
     "text": [
      "{'engine': 'text-davinci-002', 'prompt': \"Provide a cooking recipe based on the following ingredients:\\n\\n- beef\\n- ginger\\n- bell peppers\\n- oregano\\n\\nThe response should include the recipe's name, the recipe's ingredients, and the recipe's instructions.\", 'temperature': 0.7, 'top_p': 1, 'max_tokens': 300, 'frequency_penalty': 0, 'presence_penalty': 0}\n"
     ]
    }
   ],
   "source": [
    "# le moteur IA utilisé dans ce programme\n",
    "engine = \"text-davinci-002\"\n",
    "\n",
    "# la liste suivante est ici hardcodée mais sera générée depuis une liste d'ingrédients suggérés par l'interface utilisateur (frontend)\n",
    "ingredients_from_UI = [\"beef\",\"ginger\",\"bell peppers\",\"oregano\"]\n",
    "\n",
    "# à partir de la liste d'ingrédients, génération d'une chaîne de caractères qui s'intègrera naturellement dans la question posée\n",
    "formatted_ingredients = \"\\n- \" + \"\\n- \".join(ingredients_from_UI)\n",
    "\n",
    "# la question qui sera posée au modèle openAI\n",
    "question_asked_to_openAI_completions = \"Provide a cooking recipe based on the following ingredients:\\n\" + formatted_ingredients + \"\\n\\nThe response should include the recipe's name, the recipe's ingredients, and the recipe's instructions.\"\n",
    "\n",
    "# un dictionnaire contenant les arguments à passer à l'endpoint \"completions\" via la méthode \"openai.Completion.create\" (SDK openAI)\n",
    "completion_arguments = {\n",
    "  \"engine\" : engine,\n",
    "  \"prompt\" : question_asked_to_openAI_completions,\n",
    "  \"temperature\" : 0.7,\n",
    "  \"top_p\" : 1,\n",
    "  \"max_tokens\" : 300,\n",
    "  \"frequency_penalty\" : 0,\n",
    "  \"presence_penalty\" : 0\n",
    "  }\n",
    "\n",
    "print(completion_arguments)\n"
   ]
  },
  {
   "cell_type": "code",
   "execution_count": 9,
   "metadata": {},
   "outputs": [],
   "source": [
    "# requête openAI paramétrée\n",
    "\n",
    "response = openai.Completion.create(\n",
    "  engine = completion_arguments[\"engine\"],\n",
    "  prompt =  completion_arguments[\"prompt\"],\n",
    "  temperature = completion_arguments[\"temperature\"],\n",
    "  top_p = completion_arguments[\"top_p\"],\n",
    "  max_tokens = completion_arguments[\"max_tokens\"],\n",
    "  frequency_penalty = completion_arguments[\"frequency_penalty\"],\n",
    "  presence_penalty = completion_arguments[\"presence_penalty\"])\n"
   ]
  },
  {
   "cell_type": "code",
   "execution_count": 10,
   "metadata": {},
   "outputs": [
    {
     "name": "stdout",
     "output_type": "stream",
     "text": [
      "Nom de la recette : \n",
      "Ginger and Bell Pepper\n",
      "Liste d'ingrédients : \n",
      "1 pound beef, thinly sliced\n",
      "1 tablespoon ginger, minced\n",
      "2 bell peppers, thinly sliced\n",
      "1 teaspoon oregano\n",
      "1 tablespoon olive oil\n",
      "1/4 cup soy sauce\n",
      "1/4 cup beef broth\n",
      "salt and pepper to taste\n",
      "Recette : \n",
      "eason the beef with salt and pepper.\n",
      "In a large skillet or wok, heat the oil over high heat.\n",
      "Add the beef and cook until browned.\n",
      "Add the ginger, bell peppers, and oregano, and cook for 1-2 minutes.\n",
      "Add the soy sauce and beef broth, and cook until the sauce has thickened.\n",
      "Serve with rice or noodles.\n"
     ]
    }
   ],
   "source": [
    "complete_recipe = response[\"choices\"][0][\"text\"][2:]\n",
    "\n",
    "recipe_name = complete_recipe[21:complete_recipe.find(\"\\n\")-1]\n",
    "\n",
    "ingredients_extraction = complete_recipe[complete_recipe.find(\"Ingredients:\") + 14 : complete_recipe.find(\"Instructions:\")-2]\n",
    "instructions_extraction = complete_recipe[complete_recipe.find(\"Instructions:\") + 15:]\n",
    "\n",
    "ingredients_list = list(ingredients_extraction.split('\\n'))\n",
    "ingredients_list = list(i.strip('- ') for i in ingredients_list)\n",
    "ingredients_list = list(filter(lambda a: a != '', ingredients_list))\n",
    "\n",
    "instructions_list = list(instructions_extraction.split('\\n'))\n",
    "instructions_list = list(i[3:] for i in instructions_list)\n",
    "instructions_list = list(filter(lambda a: a != '', instructions_list))\n",
    "\n",
    "print(\"Nom de la recette : \\n\" + recipe_name)\n",
    "print(\"Liste d'ingrédients : \\n\" + \"\\n\".join(ingredients_list))\n",
    "print(\"Recette : \\n\" + \"\\n\".join(instructions_list))"
   ]
  },
  {
   "cell_type": "code",
   "execution_count": 17,
   "metadata": {},
   "outputs": [],
   "source": [
    "# définition de la fonction qui trouvera une recette en fonction d'ingrédients fournis\n",
    "# la fonction ne prend pour l'instant qu'un seul argument\n",
    "\n",
    "def findrecipe(ingredients, temperature):\n",
    "    response = openai.Completion.create(\n",
    "        engine = completion_arguments[\"engine\"],\n",
    "        prompt =  completion_arguments[\"prompt\"],\n",
    "        temperature = temperature,\n",
    "        top_p = completion_arguments[\"top_p\"],\n",
    "        max_tokens = completion_arguments[\"max_tokens\"],\n",
    "        frequency_penalty = completion_arguments[\"frequency_penalty\"],\n",
    "        presence_penalty = completion_arguments[\"presence_penalty\"])\n",
    "\n",
    "    complete_recipe = response[\"choices\"][0][\"text\"][2:]\n",
    "\n",
    "    recipe_name = complete_recipe[:complete_recipe.find(\"\\n\")-1]\n",
    "\n",
    "    ingredients_extraction = complete_recipe[complete_recipe.find(\"Ingredients:\") + 14 : complete_recipe.find(\"Instructions:\")-2]\n",
    "    instructions_extraction = complete_recipe[complete_recipe.find(\"Instructions:\") + 15:]\n",
    "\n",
    "    ingredients_list = list(ingredients_extraction.split('\\n'))\n",
    "    ingredients_list = list(i.strip('- ') for i in ingredients_list)\n",
    "    ingredients_list = list(filter(lambda a: a != '', ingredients_list))\n",
    "\n",
    "    instructions_list = list(instructions_extraction.split('\\n'))\n",
    "    instructions_list = list(i[3:] for i in instructions_list)\n",
    "    instructions_list = list(filter(lambda a: a != '', instructions_list))\n",
    "\n",
    "    print(\"=========================================\\n\"+str(response)+\"\\n=========================================\\n\")\n",
    "\n",
    "    return {\n",
    "        \"RecipeName\" : recipe_name,\n",
    "        \"Ingredients\" : ingredients_list,\n",
    "        \"Instructions\" : instructions_list\n",
    "    }\n"
   ]
  },
  {
   "cell_type": "code",
   "execution_count": 18,
   "metadata": {},
   "outputs": [
    {
     "name": "stdout",
     "output_type": "stream",
     "text": [
      "=========================================\n",
      "{\n",
      "  \"choices\": [\n",
      "    {\n",
      "      \"finish_reason\": \"stop\",\n",
      "      \"index\": 0,\n",
      "      \"logprobs\": null,\n",
      "      \"text\": \"\\n\\nPepper Steak\\n\\n- 1 pound beef\\n- 1 teaspoon ginger\\n- 1 bell pepper\\n- 1 teaspoon oregano\\n\\nInstructions:\\n\\n1. Cut the beef into thin strips.\\n2. Peel and chop the ginger.\\n3. Cut the bell pepper into thin strips.\\n4. Mix the beef, ginger, bell pepper, and oregano together in a bowl.\\n5. Heat a pan over medium-high heat and cook the beef mixture until the beef is cooked through.\\n6. Serve with rice.\"\n",
      "    }\n",
      "  ],\n",
      "  \"created\": 1666585088,\n",
      "  \"id\": \"cmpl-64jCaIMd9U9IW38m32g4YIOE0OjvX\",\n",
      "  \"model\": \"text-davinci-002\",\n",
      "  \"object\": \"text_completion\",\n",
      "  \"usage\": {\n",
      "    \"completion_tokens\": 116,\n",
      "    \"prompt_tokens\": 49,\n",
      "    \"total_tokens\": 165\n",
      "  }\n",
      "}\n",
      "=========================================\n",
      "\n"
     ]
    },
    {
     "data": {
      "text/plain": [
       "{'RecipeName': 'Pepper Stea',\n",
       " 'Ingredients': ['1 pound beef',\n",
       "  '1 teaspoon ginger',\n",
       "  '1 bell pepper',\n",
       "  '1 teaspoon oregano'],\n",
       " 'Instructions': ['Cut the beef into thin strips.',\n",
       "  'Peel and chop the ginger.',\n",
       "  'Cut the bell pepper into thin strips.',\n",
       "  'Mix the beef, ginger, bell pepper, and oregano together in a bowl.',\n",
       "  'Heat a pan over medium-high heat and cook the beef mixture until the beef is cooked through.',\n",
       "  'Serve with rice.']}"
      ]
     },
     "execution_count": 18,
     "metadata": {},
     "output_type": "execute_result"
    }
   ],
   "source": [
    "# appel de la fonction\n",
    "\n",
    "findrecipe(ingredients_from_UI,.7)"
   ]
  }
 ],
 "metadata": {
  "kernelspec": {
   "display_name": "Python 3.7.13 ('base')",
   "language": "python",
   "name": "python3"
  },
  "language_info": {
   "codemirror_mode": {
    "name": "ipython",
    "version": 3
   },
   "file_extension": ".py",
   "mimetype": "text/x-python",
   "name": "python",
   "nbconvert_exporter": "python",
   "pygments_lexer": "ipython3",
   "version": "3.7.13"
  },
  "orig_nbformat": 4,
  "vscode": {
   "interpreter": {
    "hash": "4db2c211e1e72f990238b0ab2adaefa5d88fa30c6db59a8d9d6ab0dc51d25439"
   }
  }
 },
 "nbformat": 4,
 "nbformat_minor": 2
}
