{
 "cells": [
  {
   "cell_type": "code",
   "execution_count": 3,
   "metadata": {},
   "outputs": [],
   "source": [
    "# import des bibliothèques requises\n",
    "import openai\n",
    "import requests\n",
    "\n",
    "# données d'identification et d'authentification openAI\n",
    "openai.organization = \"org-n6X2zCb7o31ARXwZnVkEeopQ\"\n",
    "openai.api_key = os.getenv(\"OPENAI_API_KEY\")\n"
   ]
  },
  {
   "cell_type": "code",
   "execution_count": 16,
   "metadata": {},
   "outputs": [
    {
     "data": {
      "text/plain": [
       "{'engine': 'text-davinci-002',\n",
       " 'prompt': \"Provide a cooking recipe based on the following ingredients:\\n\\n- beef\\n- ginger\\n- bell peppers\\n- oregano\\n\\nThe response should include the recipe's name, the recipe's ingredients, and the recipe's instructions.\",\n",
       " 'temperature': 0.7,\n",
       " 'top_p': 1,\n",
       " 'max_tokens': 300,\n",
       " 'frequency_penalty': 0,\n",
       " 'presence_penalty': 0}"
      ]
     },
     "execution_count": 16,
     "metadata": {},
     "output_type": "execute_result"
    }
   ],
   "source": [
    "# le moteur IA utilisé dans ce programme\n",
    "engine = \"text-davinci-002\"\n",
    "\n",
    "# la liste suivante est ici hardcodée mais sera générée depuis une liste d'ingrédients suggérés par l'interface utilisateur (frontend)\n",
    "ingredients_from_UI = [\"beef\",\"ginger\",\"bell peppers\",\"oregano\"]\n",
    "\n",
    "# à partir de la liste d'ingrédients, génération d'une chaîne de caractères qui s'intègrera naturellement dans la question posée\n",
    "formatted_ingredients = \"\\n- \" + \"\\n- \".join(ingredients_from_UI)\n",
    "\n",
    "# la question qui sera posée au modèle openAI\n",
    "question_asked_to_openAI_completions = \"Provide a cooking recipe based on the following ingredients:\\n\" + formatted_ingredients + \"\\n\\nThe response should include the recipe's name, the recipe's ingredients, and the recipe's instructions.\"\n",
    "\n",
    "# un dictionnaire contenant les arguments à passer à l'endpoint \"completions\" via la méthode \"openai.Completion.create\" (SDK openAI)\n",
    "completion_arguments = {\n",
    "  \"engine\" : engine,\n",
    "  \"prompt\" : question_asked_to_openAI_completions,\n",
    "  \"temperature\" : 0.7,\n",
    "  \"top_p\" : 1,\n",
    "  \"max_tokens\" : 300,\n",
    "  \"frequency_penalty\" : 0,\n",
    "  \"presence_penalty\" : 0\n",
    "  }\n",
    "\n",
    "completion_arguments\n"
   ]
  },
  {
   "cell_type": "code",
   "execution_count": 17,
   "metadata": {},
   "outputs": [],
   "source": [
    "response = openai.Completion.create(\n",
    "  engine = completion_arguments[\"engine\"],\n",
    "  prompt =  completion_arguments[\"prompt\"],\n",
    "  temperature = completion_arguments[\"temperature\"],\n",
    "  top_p = completion_arguments[\"top_p\"],\n",
    "  max_tokens = completion_arguments[\"max_tokens\"],\n",
    "  frequency_penalty = completion_arguments[\"frequency_penalty\"],\n",
    "  presence_penalty = completion_arguments[\"presence_penalty\"])\n"
   ]
  },
  {
   "cell_type": "code",
   "execution_count": 44,
   "metadata": {},
   "outputs": [
    {
     "name": "stdout",
     "output_type": "stream",
     "text": [
      "Beef and Peppers with Oregano\n",
      "- 1 pound beef, thinly sliced\n",
      "- 1 teaspoon ginger, minced\n",
      "- 2 bell peppers, thinly sliced\n",
      "- 1 teaspoon oregano, dried\n",
      "- 1 tablespoon olive oil\n",
      "- salt and pepper to taste\n",
      "1. In a large skillet over medium-high heat, add the beef and ginger. Cook until the beef is browned.\n",
      "2. Add the bell peppers and oregano. Cook for 3-4 minutes, until the peppers are slightly softened.\n",
      "3. Drizzle with olive oil and season with salt and pepper to taste. Serve immediately.\n"
     ]
    }
   ],
   "source": [
    "complete_recipe = response[\"choices\"][0][\"text\"][2:]\n",
    "recipe_name = complete_recipe[21:complete_recipe.find(\"\\n\")-1]\n",
    "ingredients_extraction = complete_recipe[complete_recipe.find(\"Ingredients:\") + 14 : complete_recipe.find(\"Instructions:\")-2]\n",
    "instructions_extraction = complete_recipe[complete_recipe.find(\"Instructions:\") + 15:]\n",
    "\n",
    "print(recipe_name)\n",
    "print(ingredients_extraction)\n",
    "print(instructions_extraction)"
   ]
  }
 ],
 "metadata": {
  "kernelspec": {
   "display_name": "Python 3.10.4 ('cdds')",
   "language": "python",
   "name": "python3"
  },
  "language_info": {
   "codemirror_mode": {
    "name": "ipython",
    "version": 3
   },
   "file_extension": ".py",
   "mimetype": "text/x-python",
   "name": "python",
   "nbconvert_exporter": "python",
   "pygments_lexer": "ipython3",
   "version": "3.10.4"
  },
  "orig_nbformat": 4,
  "vscode": {
   "interpreter": {
    "hash": "8bab0a5423ce62a47f6e87205924ad62f3241dead0ab0b7b49b905e7bc7a44cc"
   }
  }
 },
 "nbformat": 4,
 "nbformat_minor": 2
}
