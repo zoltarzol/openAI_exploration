{
 "cells": [
  {
   "cell_type": "code",
   "execution_count": 11,
   "metadata": {},
   "outputs": [
    {
     "name": "stdout",
     "output_type": "stream",
     "text": [
      "None\n"
     ]
    }
   ],
   "source": [
    "# import of required packages\n",
    "\n",
    "import os\n",
    "import openai\n",
    "import requests\n",
    "\n",
    "openai.organization = \"org-n6X2zCb7o31ARXwZnVkEeopQ\"\n",
    "openai.api_key = os.getenv(\"OPENAI_API_KEY\")\n",
    "\n",
    "URL = \"https://api.openai.com/v1/\"\n",
    "\n",
    "\n",
    "# retrieve all available openAI models\n",
    "# openai.Model.list()\n",
    "\n",
    "print(os.getenv(\"OPENAI_API_KEY\"))"
   ]
  },
  {
   "cell_type": "code",
   "execution_count": null,
   "metadata": {},
   "outputs": [],
   "source": [
    "https://api.openai.com/v1/completions\n",
    "\n",
    "{\n",
    "  \"model\": \"text-davinci-002\",\n",
    "  \"prompt\": \"Say this is a test\",\n",
    "  \"max_tokens\": 6,\n",
    "  \"temperature\": 0,\n",
    "  \"top_p\": 1,\n",
    "  \"n\": 1,\n",
    "  \"stream\": false,\n",
    "  \"logprobs\": null,\n",
    "  \"stop\": \"\\n\"\n",
    "}"
   ]
  }
 ],
 "metadata": {
  "kernelspec": {
   "display_name": "Python 3.10.4 ('cdds')",
   "language": "python",
   "name": "python3"
  },
  "language_info": {
   "codemirror_mode": {
    "name": "ipython",
    "version": 3
   },
   "file_extension": ".py",
   "mimetype": "text/x-python",
   "name": "python",
   "nbconvert_exporter": "python",
   "pygments_lexer": "ipython3",
   "version": "3.10.4"
  },
  "orig_nbformat": 4,
  "vscode": {
   "interpreter": {
    "hash": "8bab0a5423ce62a47f6e87205924ad62f3241dead0ab0b7b49b905e7bc7a44cc"
   }
  }
 },
 "nbformat": 4,
 "nbformat_minor": 2
}
