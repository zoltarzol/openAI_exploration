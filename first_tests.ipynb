{
 "cells": [
  {
   "cell_type": "code",
   "execution_count": 3,
   "metadata": {},
   "outputs": [],
   "source": [
    "# import des bibliothèques requises\n",
    "import os\n",
    "import openai\n",
    "import requests\n",
    "\n",
    "# données d'identification et d'authentification openAI\n",
    "openai.organization = \"org-n6X2zCb7o31ARXwZnVkEeopQ\"\n",
    "openai.api_key = os.getenv(\"OPENAI_API_KEY\")\n"
   ]
  },
  {
   "cell_type": "code",
   "execution_count": 72,
   "metadata": {},
   "outputs": [
    {
     "name": "stdout",
     "output_type": "stream",
     "text": [
      "{'engine': 'text-davinci-002', 'prompt': \"Provide a cooking recipe based on the following ingredients:\\n\\n- beef\\n- ginger\\n- bell peppers\\n- oregano\\n\\nThe response should include the recipe's name, the recipe's ingredients, and the recipe's instructions.\", 'temperature': 0.7, 'top_p': 1, 'max_tokens': 300, 'frequency_penalty': 0, 'presence_penalty': 0}\n"
     ]
    }
   ],
   "source": [
    "# le moteur IA utilisé dans ce programme\n",
    "engine = \"text-davinci-002\"\n",
    "\n",
    "# la liste suivante est ici hardcodée mais sera générée depuis une liste d'ingrédients suggérés par l'interface utilisateur (frontend)\n",
    "ingredients_from_UI = [\"beef\",\"ginger\",\"bell peppers\",\"oregano\"]\n",
    "\n",
    "# à partir de la liste d'ingrédients, génération d'une chaîne de caractères qui s'intègrera naturellement dans la question posée\n",
    "formatted_ingredients = \"\\n- \" + \"\\n- \".join(ingredients_from_UI)\n",
    "\n",
    "# la question qui sera posée au modèle openAI\n",
    "question_asked_to_openAI_completions = \"Provide a cooking recipe based on the following ingredients:\\n\" + formatted_ingredients + \"\\n\\nThe response should include the recipe's name, the recipe's ingredients, and the recipe's instructions.\"\n",
    "\n",
    "# un dictionnaire contenant les arguments à passer à l'endpoint \"completions\" via la méthode \"openai.Completion.create\" (SDK openAI)\n",
    "completion_arguments = {\n",
    "  \"engine\" : engine,\n",
    "  \"prompt\" : question_asked_to_openAI_completions,\n",
    "  \"temperature\" : 0.7,\n",
    "  \"top_p\" : 1,\n",
    "  \"max_tokens\" : 300,\n",
    "  \"frequency_penalty\" : 0,\n",
    "  \"presence_penalty\" : 0\n",
    "  }\n",
    "\n",
    "print(completion_arguments)\n"
   ]
  },
  {
   "cell_type": "code",
   "execution_count": 17,
   "metadata": {},
   "outputs": [],
   "source": [
    "# requête openAI paramétrée\n",
    "\n",
    "response = openai.Completion.create(\n",
    "  engine = completion_arguments[\"engine\"],\n",
    "  prompt =  completion_arguments[\"prompt\"],\n",
    "  temperature = completion_arguments[\"temperature\"],\n",
    "  top_p = completion_arguments[\"top_p\"],\n",
    "  max_tokens = completion_arguments[\"max_tokens\"],\n",
    "  frequency_penalty = completion_arguments[\"frequency_penalty\"],\n",
    "  presence_penalty = completion_arguments[\"presence_penalty\"])\n"
   ]
  },
  {
   "cell_type": "code",
   "execution_count": 68,
   "metadata": {},
   "outputs": [
    {
     "name": "stdout",
     "output_type": "stream",
     "text": [
      "Nom de la recette : \n",
      "Beef and Peppers with Oregano\n",
      "Liste d'ingrédients : \n",
      "1 pound beef, thinly sliced\n",
      "1 teaspoon ginger, minced\n",
      "2 bell peppers, thinly sliced\n",
      "1 teaspoon oregano, dried\n",
      "1 tablespoon olive oil\n",
      "salt and pepper to taste\n",
      "Recette : \n",
      "In a large skillet over medium-high heat, add the beef and ginger. Cook until the beef is browned.\n",
      "Add the bell peppers and oregano. Cook for 3-4 minutes, until the peppers are slightly softened.\n",
      "Drizzle with olive oil and season with salt and pepper to taste. Serve immediately.\n"
     ]
    }
   ],
   "source": [
    "complete_recipe = response[\"choices\"][0][\"text\"][2:]\n",
    "\n",
    "recipe_name = complete_recipe[21:complete_recipe.find(\"\\n\")-1]\n",
    "\n",
    "ingredients_extraction = complete_recipe[complete_recipe.find(\"Ingredients:\") + 14 : complete_recipe.find(\"Instructions:\")-2]\n",
    "instructions_extraction = complete_recipe[complete_recipe.find(\"Instructions:\") + 15:]\n",
    "\n",
    "ingredients_list = list(ingredients_extraction.split('\\n'))\n",
    "ingredients_list = list(i.strip('- ') for i in ingredients_list)\n",
    "\n",
    "instructions_list = list(instructions_extraction.split('\\n'))\n",
    "instructions_list = list(i[3:] for i in instructions_list)\n",
    "\n",
    "print(\"Nom de la recette : \\n\" + recipe_name)\n",
    "print(\"Liste d'ingrédients : \\n\" + \"\\n\".join(ingredients_list))\n",
    "print(\"Recette : \\n\" + \"\\n\".join(instructions_list))"
   ]
  },
  {
   "cell_type": "code",
   "execution_count": 90,
   "metadata": {},
   "outputs": [],
   "source": [
    "# définition de la fonction qui trouvera une recette en fonction d'ingrédients fournis\n",
    "# la fonction ne prend pour l'instant qu'un seul argument\n",
    "\n",
    "def findrecipe(ingredients, temperature):\n",
    "    response = openai.Completion.create(\n",
    "        engine = completion_arguments[\"engine\"],\n",
    "        prompt =  completion_arguments[\"prompt\"],\n",
    "        temperature = temperature,\n",
    "        top_p = completion_arguments[\"top_p\"],\n",
    "        max_tokens = completion_arguments[\"max_tokens\"],\n",
    "        frequency_penalty = completion_arguments[\"frequency_penalty\"],\n",
    "        presence_penalty = completion_arguments[\"presence_penalty\"])\n",
    "\n",
    "    complete_recipe = response[\"choices\"][0][\"text\"][2:]\n",
    "\n",
    "    recipe_name = complete_recipe[:complete_recipe.find(\"\\n\")-1]\n",
    "\n",
    "    ingredients_extraction = complete_recipe[complete_recipe.find(\"Ingredients:\") + 14 : complete_recipe.find(\"Instructions:\")-2]\n",
    "    instructions_extraction = complete_recipe[complete_recipe.find(\"Instructions:\") + 15:]\n",
    "\n",
    "    ingredients_list = list(ingredients_extraction.split('\\n'))\n",
    "    ingredients_list = list(i.strip('- ') for i in ingredients_list)\n",
    "\n",
    "    instructions_list = list(instructions_extraction.split('\\n'))\n",
    "    instructions_list = list(i[3:] for i in instructions_list)\n",
    "\n",
    "    print(\"=========================================\\n\"+str(response)+\"\\n=========================================\\n\")\n",
    "\n",
    "    return {\n",
    "        \"RecipeName\" : recipe_name,\n",
    "        \"Ingredients\" : ingredients_list,\n",
    "        \"Instructions\" : instructions_list\n",
    "    }\n"
   ]
  },
  {
   "cell_type": "code",
   "execution_count": 91,
   "metadata": {},
   "outputs": [
    {
     "name": "stdout",
     "output_type": "stream",
     "text": [
      "=========================================\n",
      "{\n",
      "  \"choices\": [\n",
      "    {\n",
      "      \"finish_reason\": \"stop\",\n",
      "      \"index\": 0,\n",
      "      \"logprobs\": null,\n",
      "      \"text\": \"\\n\\nBeef and Bell Pepper Stir-Fry Recipe\\n\\nIngredients:\\n- 1 lb beef (sirloin, flank, or round steak), thinly sliced\\n- 1/2 teaspoon ginger\\n- 2 bell peppers (red, yellow, or green), julienned\\n- 1 teaspoon oregano\\n\\nInstructions:\\n1. In a large skillet or wok, stir-fry beef in ginger over medium-high heat until browned.\\n2. Add bell peppers and oregano and stir-fry until peppers are crisp-tender.\\n3. Serve with rice or noodles.\"\n",
      "    }\n",
      "  ],\n",
      "  \"created\": 1665154020,\n",
      "  \"id\": \"cmpl-5yiuqM15ZWBcLRyZSqotmZ0FpwNKF\",\n",
      "  \"model\": \"text-davinci-002\",\n",
      "  \"object\": \"text_completion\",\n",
      "  \"usage\": {\n",
      "    \"completion_tokens\": 129,\n",
      "    \"prompt_tokens\": 49,\n",
      "    \"total_tokens\": 178\n",
      "  }\n",
      "}\n",
      "=========================================\n",
      "\n"
     ]
    },
    {
     "data": {
      "text/plain": [
       "{'RecipeName': 'Beef and Bell Pepper Stir-Fry Recip',\n",
       " 'Ingredients': ['1 lb beef (sirloin, flank, or round steak), thinly sliced',\n",
       "  '1/2 teaspoon ginger',\n",
       "  '2 bell peppers (red, yellow, or green), julienned',\n",
       "  '1 teaspoon oregano'],\n",
       " 'Instructions': ['n a large skillet or wok, stir-fry beef in ginger over medium-high heat until browned.',\n",
       "  'Add bell peppers and oregano and stir-fry until peppers are crisp-tender.',\n",
       "  'Serve with rice or noodles.']}"
      ]
     },
     "execution_count": 91,
     "metadata": {},
     "output_type": "execute_result"
    }
   ],
   "source": [
    "# appel de la fonction\n",
    "\n",
    "findrecipe(ingredients_from_UI,.7)"
   ]
  }
 ],
 "metadata": {
  "kernelspec": {
   "display_name": "Python 3.10.4 ('cdds')",
   "language": "python",
   "name": "python3"
  },
  "language_info": {
   "codemirror_mode": {
    "name": "ipython",
    "version": 3
   },
   "file_extension": ".py",
   "mimetype": "text/x-python",
   "name": "python",
   "nbconvert_exporter": "python",
   "pygments_lexer": "ipython3",
   "version": "3.10.4"
  },
  "orig_nbformat": 4,
  "vscode": {
   "interpreter": {
    "hash": "8bab0a5423ce62a47f6e87205924ad62f3241dead0ab0b7b49b905e7bc7a44cc"
   }
  }
 },
 "nbformat": 4,
 "nbformat_minor": 2
}
